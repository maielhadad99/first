{
  "nbformat": 4,
  "nbformat_minor": 0,
  "metadata": {
    "colab": {
      "name": "numpymini.ipynb",
      "provenance": [],
      "authorship_tag": "ABX9TyN3VnFm7YOHsWpEkbuLo7lq",
      "include_colab_link": true
    },
    "kernelspec": {
      "name": "python3",
      "display_name": "Python 3"
    },
    "language_info": {
      "name": "python"
    }
  },
  "cells": [
    {
      "cell_type": "markdown",
      "metadata": {
        "id": "view-in-github",
        "colab_type": "text"
      },
      "source": [
        "<a href=\"https://colab.research.google.com/github/maielhadad99/first/blob/master/numpymini.ipynb\" target=\"_parent\"><img src=\"https://colab.research.google.com/assets/colab-badge.svg\" alt=\"Open In Colab\"/></a>"
      ]
    },
    {
      "cell_type": "code",
      "metadata": {
        "colab": {
          "base_uri": "https://localhost:8080/"
        },
        "id": "LKemyf9BMZc5",
        "outputId": "a5e0ecdf-138c-4d16-f30b-7ce8ee08964c"
      },
      "source": [
        "lst = [10, 200, 90, 0]\n",
        "\n",
        "import numpy as np\n",
        "arr = np.array(lst)\n",
        "\n",
        "print(arr + 10)"
      ],
      "execution_count": 2,
      "outputs": [
        {
          "output_type": "stream",
          "name": "stdout",
          "text": [
            "[ 20 210 100  10]\n"
          ]
        }
      ]
    },
    {
      "cell_type": "code",
      "metadata": {
        "colab": {
          "base_uri": "https://localhost:8080/"
        },
        "id": "3R9NdbiTMg9m",
        "outputId": "eaec13d0-5aa3-4d90-8912-3f262a909aff"
      },
      "source": [
        "lst = [22, 45, 78, 50]\n",
        "\n",
        "import numpy as np\n",
        "import sys\n",
        "arr = np.array(lst)\n",
        "print(arr.nbytes)\n",
        "print(sys.getsizeof(lst))                 "
      ],
      "execution_count": 3,
      "outputs": [
        {
          "output_type": "stream",
          "name": "stdout",
          "text": [
            "32\n",
            "104\n"
          ]
        }
      ]
    },
    {
      "cell_type": "code",
      "metadata": {
        "colab": {
          "base_uri": "https://localhost:8080/"
        },
        "id": "a9LyNXkaMkA3",
        "outputId": "0b23b4b0-1e08-4337-e1c0-c83f43280f29"
      },
      "source": [
        "import numpy as np\n",
        "a = np.array([1,2,3,4])               # creates a 1-dimensional array\n",
        "b = np.array([[1,2,3,4], [5,6,7,8]])    # creates a 2-dimensional array\n",
        "print(a)\n",
        "print('----')\n",
        "print(b)"
      ],
      "execution_count": 4,
      "outputs": [
        {
          "output_type": "stream",
          "name": "stdout",
          "text": [
            "[1 2 3 4]\n",
            "----\n",
            "[[1 2 3 4]\n",
            " [5 6 7 8]]\n"
          ]
        }
      ]
    },
    {
      "cell_type": "code",
      "metadata": {
        "colab": {
          "base_uri": "https://localhost:8080/"
        },
        "id": "FATnKlC1MofP",
        "outputId": "54532fbd-837e-4622-a400-5f7ab7f5aae6"
      },
      "source": [
        "a = np.array([1,2,3,4])\n",
        "b = np.array([[1,2,3,4], [5,6,7,8]])\n",
        "\n",
        "print('The shape of the array a is ', a.shape)\n",
        "print('The shape of the array b is ', b.shape)"
      ],
      "execution_count": 5,
      "outputs": [
        {
          "output_type": "stream",
          "name": "stdout",
          "text": [
            "The shape of the array a is  (4,)\n",
            "The shape of the array b is  (2, 4)\n"
          ]
        }
      ]
    },
    {
      "cell_type": "code",
      "metadata": {
        "colab": {
          "base_uri": "https://localhost:8080/"
        },
        "id": "7wYW8z3AMrNn",
        "outputId": "462fa855-4d0e-4da4-e2bc-c8b7f54478ff"
      },
      "source": [
        "print('The dimensions of array a is ', a.ndim)\n",
        "print('The dimensions of array b is ', b.ndim)\n"
      ],
      "execution_count": 6,
      "outputs": [
        {
          "output_type": "stream",
          "name": "stdout",
          "text": [
            "The dimensions of array a is  1\n",
            "The dimensions of array b is  2\n"
          ]
        }
      ]
    },
    {
      "cell_type": "code",
      "metadata": {
        "colab": {
          "base_uri": "https://localhost:8080/"
        },
        "id": "6jykurI2MtgE",
        "outputId": "686f681d-f4ed-448b-b0d4-91ae549c942e"
      },
      "source": [
        "print('The size of the array a is ', a.size)\n",
        "print('The size of the array b is ', b.size)"
      ],
      "execution_count": 7,
      "outputs": [
        {
          "output_type": "stream",
          "name": "stdout",
          "text": [
            "The size of the array a is  4\n",
            "The size of the array b is  8\n"
          ]
        }
      ]
    },
    {
      "cell_type": "code",
      "metadata": {
        "colab": {
          "base_uri": "https://localhost:8080/"
        },
        "id": "AMABj2lgMwqM",
        "outputId": "401740e1-4d35-4752-fa02-3e08eb03a35f"
      },
      "source": [
        "print('The datatype of the array a is ', a.dtype)\n",
        "print('The datatype of the array b is ', b.dtype)"
      ],
      "execution_count": 8,
      "outputs": [
        {
          "output_type": "stream",
          "name": "stdout",
          "text": [
            "The datatype of the array a is  int64\n",
            "The datatype of the array b is  int64\n"
          ]
        }
      ]
    },
    {
      "cell_type": "code",
      "metadata": {
        "colab": {
          "base_uri": "https://localhost:8080/"
        },
        "id": "08tf5_IWMz9I",
        "outputId": "1ec42b52-9c9a-40d2-a9a0-fc712260dfac"
      },
      "source": [
        "print('The number of bytes in each element of the array a is  ', a.itemsize)\n",
        "print('The number of bytes in each element of the array b is ', b.itemsize)"
      ],
      "execution_count": 9,
      "outputs": [
        {
          "output_type": "stream",
          "name": "stdout",
          "text": [
            "The number of bytes in each element of the array a is   8\n",
            "The number of bytes in each element of the array b is  8\n"
          ]
        }
      ]
    },
    {
      "cell_type": "code",
      "metadata": {
        "colab": {
          "base_uri": "https://localhost:8080/"
        },
        "id": "TAhLrwRtM9o7",
        "outputId": "30b0e053-c8bd-478e-e4a8-027179dd38bf"
      },
      "source": [
        "print(np.array([5,6,8,45,12,52]).reshape(2,3))"
      ],
      "execution_count": 10,
      "outputs": [
        {
          "output_type": "stream",
          "name": "stdout",
          "text": [
            "[[ 5  6  8]\n",
            " [45 12 52]]\n"
          ]
        }
      ]
    },
    {
      "cell_type": "code",
      "metadata": {
        "colab": {
          "base_uri": "https://localhost:8080/"
        },
        "id": "2B-i8jIkM_2y",
        "outputId": "ed1640b8-a73c-4be6-b18f-a79c0ca3a0f9"
      },
      "source": [
        "print(np.matrix([[1,2],[3,4]]))"
      ],
      "execution_count": 11,
      "outputs": [
        {
          "output_type": "stream",
          "name": "stdout",
          "text": [
            "[[1 2]\n",
            " [3 4]]\n"
          ]
        }
      ]
    },
    {
      "cell_type": "code",
      "metadata": {
        "colab": {
          "base_uri": "https://localhost:8080/"
        },
        "id": "JsLv_yQONDAF",
        "outputId": "333c365f-d7a4-4032-afe7-b381b3120024"
      },
      "source": [
        "print(np.eye(3)) # Identity matrix"
      ],
      "execution_count": 12,
      "outputs": [
        {
          "output_type": "stream",
          "name": "stdout",
          "text": [
            "[[1. 0. 0.]\n",
            " [0. 1. 0.]\n",
            " [0. 0. 1.]]\n"
          ]
        }
      ]
    },
    {
      "cell_type": "code",
      "metadata": {
        "colab": {
          "base_uri": "https://localhost:8080/"
        },
        "id": "4KdkWqRhNGrn",
        "outputId": "c96a881c-b7b6-4ab1-c190-1cc14c7b511b"
      },
      "source": [
        "print( np.zeros( (4,3) ) )\n"
      ],
      "execution_count": 13,
      "outputs": [
        {
          "output_type": "stream",
          "name": "stdout",
          "text": [
            "[[0. 0. 0.]\n",
            " [0. 0. 0.]\n",
            " [0. 0. 0.]\n",
            " [0. 0. 0.]]\n"
          ]
        }
      ]
    },
    {
      "cell_type": "code",
      "metadata": {
        "id": "M9wG8thb7Nyh"
      },
      "source": [
        ""
      ],
      "execution_count": 13,
      "outputs": []
    },
    {
      "cell_type": "code",
      "metadata": {
        "colab": {
          "base_uri": "https://localhost:8080/"
        },
        "id": "JPHLQeCWNM-s",
        "outputId": "6233aa70-5206-453c-ee19-183a8f2de4a5"
      },
      "source": [
        "# NumPy array from 1 to 19\n",
        "print(np.arange(1,20,dtype='int32'))"
      ],
      "execution_count": 14,
      "outputs": [
        {
          "output_type": "stream",
          "name": "stdout",
          "text": [
            "[ 1  2  3  4  5  6  7  8  9 10 11 12 13 14 15 16 17 18 19]\n"
          ]
        }
      ]
    },
    {
      "cell_type": "code",
      "metadata": {
        "colab": {
          "base_uri": "https://localhost:8080/"
        },
        "id": "sr9YTWgaNQXR",
        "outputId": "c96b4104-26b0-45cd-d4c9-7155b33bd65e"
      },
      "source": [
        "# NumPy array from 1 to 19 with step size 2\n",
        "print(np.arange(1,20,2,dtype='int8'))"
      ],
      "execution_count": 15,
      "outputs": [
        {
          "output_type": "stream",
          "name": "stdout",
          "text": [
            "[ 1  3  5  7  9 11 13 15 17 19]\n"
          ]
        }
      ]
    },
    {
      "cell_type": "code",
      "metadata": {
        "colab": {
          "base_uri": "https://localhost:8080/"
        },
        "id": "tOoLdEEnNJZS",
        "outputId": "23a30010-7190-4323-9a11-01b15938a7c4"
      },
      "source": [
        "print(np.ones( (3,3), dtype = np.float64 ))"
      ],
      "execution_count": 16,
      "outputs": [
        {
          "output_type": "stream",
          "name": "stdout",
          "text": [
            "[[1. 1. 1.]\n",
            " [1. 1. 1.]\n",
            " [1. 1. 1.]]\n"
          ]
        }
      ]
    },
    {
      "cell_type": "code",
      "metadata": {
        "colab": {
          "base_uri": "https://localhost:8080/"
        },
        "id": "GZYjWie67PjY",
        "outputId": "624eaa82-1f9a-4b73-f3fa-cd2aba29ce1f"
      },
      "source": [
        "print(np.array([5,6,8,45,12,52]).reshape(2,3))"
      ],
      "execution_count": 17,
      "outputs": [
        {
          "output_type": "stream",
          "name": "stdout",
          "text": [
            "[[ 5  6  8]\n",
            " [45 12 52]]\n"
          ]
        }
      ]
    },
    {
      "cell_type": "code",
      "metadata": {
        "colab": {
          "base_uri": "https://localhost:8080/"
        },
        "id": "9wzvmpkH7bkR",
        "outputId": "08a6f77f-9ab9-4f7f-f9a7-5fe5f094fef1"
      },
      "source": [
        "print(np.matrix([[1,2],[3,4]]))"
      ],
      "execution_count": 18,
      "outputs": [
        {
          "output_type": "stream",
          "name": "stdout",
          "text": [
            "[[1 2]\n",
            " [3 4]]\n"
          ]
        }
      ]
    },
    {
      "cell_type": "code",
      "metadata": {
        "colab": {
          "base_uri": "https://localhost:8080/"
        },
        "id": "ARL79MZl8OFy",
        "outputId": "47d1b8b7-a5d8-4c74-84d1-037f53a10f02"
      },
      "source": [
        "a = np.array([[1,2,3],[4,5,6],[7,8,9]])\n",
        "\n",
        "# Pull out second element of third row\n",
        "print(a[0][2]) # index 0 row and then 1 and 2 \n",
        "print('==========')\n",
        "# Pull out first two rows and columns\n",
        "print(a[:2,:2])\n",
        "print('==========')\n",
        "# Pull all elements of the third row\n",
        "print(a[2,:])"
      ],
      "execution_count": 19,
      "outputs": [
        {
          "output_type": "stream",
          "name": "stdout",
          "text": [
            "3\n",
            "==========\n",
            "[[1 2]\n",
            " [4 5]]\n",
            "==========\n",
            "[7 8 9]\n"
          ]
        }
      ]
    },
    {
      "cell_type": "code",
      "metadata": {
        "colab": {
          "base_uri": "https://localhost:8080/"
        },
        "id": "cZgb6QTM8_Yt",
        "outputId": "fd07bad5-b653-4381-a869-a5c6fe18ac8f"
      },
      "source": [
        "a=np.array([[1,2],[3,4],[5,6]])\n",
        "\n",
        "print(a[[0,1,2],[0,1,0]])\n",
        "print('==========')\n",
        "\n",
        "print(np.array([a[0,0],a[1,1],a[2,0]]))\n",
        "print('==========')\n",
        "\n",
        "print(a[[0,0],[1,1]])\n",
        "print('==========')\n",
        "\n",
        "print(np.array([a[0,1],a[0,1]]))\n",
        "#Explanation: The print statements 1 & 2 and 3 & 4 yield the same results.\n",
        " #In the first case, a[[0, 1, 2], [0, 1, 0]] essentially means\n",
        "  #we are indexing the value in first row-first column, \n",
        "  #second row-second column and third row-first column, \n",
        "  #which is the same as a[0, 0], a[1, 1], a[2, 0]]. Similarly,\n",
        "   #you should be able to deduce the logic behind the second case."
      ],
      "execution_count": 20,
      "outputs": [
        {
          "output_type": "stream",
          "name": "stdout",
          "text": [
            "[1 4 5]\n",
            "==========\n",
            "[1 4 5]\n",
            "==========\n",
            "[2 2]\n",
            "==========\n",
            "[2 2]\n"
          ]
        }
      ]
    },
    {
      "cell_type": "code",
      "metadata": {
        "colab": {
          "base_uri": "https://localhost:8080/"
        },
        "id": "jq8DraslRqR6",
        "outputId": "cff231a6-5f71-4c35-8ab0-e81f5e8dc29c"
      },
      "source": [
        "a = np.array([[4,7,1],[2,5,7],[7,1,1]])\n",
        "\n",
        "# Boolean condition for values greater than 3\n",
        "k = a > 3\n",
        "print(k)\n",
        "\n",
        "# Masking for the above boolean condition in the array\n",
        "print(a[k])"
      ],
      "execution_count": 21,
      "outputs": [
        {
          "output_type": "stream",
          "name": "stdout",
          "text": [
            "[[ True  True False]\n",
            " [False  True  True]\n",
            " [ True False False]]\n",
            "[4 7 5 7 7]\n"
          ]
        }
      ]
    },
    {
      "cell_type": "code",
      "metadata": {
        "colab": {
          "base_uri": "https://localhost:8080/"
        },
        "id": "90Now5WOSf0n",
        "outputId": "0e45e4c5-00b6-42dc-dfab-cd7ccbd51855"
      },
      "source": [
        "b = ([3,4.5,3+5j,0])\n",
        "print(np.isreal(b))\n",
        "print(b)\n",
        "print(np.iscomplex(b))"
      ],
      "execution_count": 22,
      "outputs": [
        {
          "output_type": "stream",
          "name": "stdout",
          "text": [
            "[ True  True False  True]\n",
            "[3, 4.5, (3+5j), 0]\n",
            "[False False  True False]\n"
          ]
        }
      ]
    },
    {
      "cell_type": "code",
      "metadata": {
        "colab": {
          "base_uri": "https://localhost:8080/"
        },
        "id": "jLvO837HYWoO",
        "outputId": "953ed180-45c6-4559-aa92-f232e24c9aa4"
      },
      "source": [
        "import numpy as np\n",
        "arr = np.array([1,2,3,4,5,6,7])\n",
        "print(arr[arr > 2])"
      ],
      "execution_count": 23,
      "outputs": [
        {
          "output_type": "stream",
          "name": "stdout",
          "text": [
            "[3 4 5 6 7]\n"
          ]
        }
      ]
    },
    {
      "cell_type": "code",
      "metadata": {
        "colab": {
          "base_uri": "https://localhost:8080/"
        },
        "id": "VTggGOKNY7gl",
        "outputId": "795077f6-0cab-4786-f23d-a26180c6799d"
      },
      "source": [
        "a = np.array([[1,2,3],[4,5,6],[7,8,9]])\n",
        "b = np.array([[10,11,12],[13,14,15],[16,17,18]])\n",
        "print(a+b)\n",
        "print(a-b)\n",
        "print(a*b)\n",
        "print(a/b)\n",
        "print(np.add(a,b))\n",
        "a = np.array([[1,4,9],[16,25,36]])\n",
        "print(np.sqrt(a))\n"
      ],
      "execution_count": 24,
      "outputs": [
        {
          "output_type": "stream",
          "name": "stdout",
          "text": [
            "[[11 13 15]\n",
            " [17 19 21]\n",
            " [23 25 27]]\n",
            "[[-9 -9 -9]\n",
            " [-9 -9 -9]\n",
            " [-9 -9 -9]]\n",
            "[[ 10  22  36]\n",
            " [ 52  70  90]\n",
            " [112 136 162]]\n",
            "[[0.1        0.18181818 0.25      ]\n",
            " [0.30769231 0.35714286 0.4       ]\n",
            " [0.4375     0.47058824 0.5       ]]\n",
            "[[11 13 15]\n",
            " [17 19 21]\n",
            " [23 25 27]]\n",
            "[[1. 2. 3.]\n",
            " [4. 5. 6.]]\n"
          ]
        }
      ]
    },
    {
      "cell_type": "code",
      "metadata": {
        "colab": {
          "base_uri": "https://localhost:8080/"
        },
        "id": "ptAOWy0DaKoI",
        "outputId": "bf836522-c86e-4eae-fa9a-7ad9735cb207"
      },
      "source": [
        "coefficients =  np.array([1,-4,4])\n",
        "roots = np.roots(coefficients)\n",
        "print(roots)"
      ],
      "execution_count": 25,
      "outputs": [
        {
          "output_type": "stream",
          "name": "stdout",
          "text": [
            "[2. 2.]\n"
          ]
        }
      ]
    },
    {
      "cell_type": "code",
      "metadata": {
        "colab": {
          "base_uri": "https://localhost:8080/"
        },
        "id": "gzLesQE_aRVx",
        "outputId": "1ae255c5-57f3-439f-8635-a9411394ef58"
      },
      "source": [
        "a = np.array([5,6,7,8])\n",
        "b = np.array([5,6,7,8])\n",
        "print(np.array_equal(a,b))"
      ],
      "execution_count": 26,
      "outputs": [
        {
          "output_type": "stream",
          "name": "stdout",
          "text": [
            "True\n"
          ]
        }
      ]
    },
    {
      "cell_type": "code",
      "metadata": {
        "colab": {
          "base_uri": "https://localhost:8080/"
        },
        "id": "MSqxp1RVafus",
        "outputId": "f4ea4edb-128b-4d63-8ad4-db1f3d83b915"
      },
      "source": [
        "a = np.array([[2,5,7],[4,25,30]])\n",
        "\n",
        "# computes sum over columns\n",
        "print(a.sum(axis=0))\n",
        "print('==========')\n",
        "\n",
        "# computes sum over rows\n",
        "print(a.sum(axis=1))\n",
        "print('==========')\n",
        "\n",
        "# computes total sum\n",
        "print(a.sum())"
      ],
      "execution_count": 27,
      "outputs": [
        {
          "output_type": "stream",
          "name": "stdout",
          "text": [
            "[ 6 30 37]\n",
            "==========\n",
            "[14 59]\n",
            "==========\n",
            "73\n"
          ]
        }
      ]
    },
    {
      "cell_type": "code",
      "metadata": {
        "colab": {
          "base_uri": "https://localhost:8080/",
          "height": 215
        },
        "id": "eTmFSL9eccjx",
        "outputId": "8966fad1-7a53-46ff-cef1-6ede5e126d1d"
      },
      "source": [
        "#mini project\n",
        "a= np.array ()"
      ],
      "execution_count": 56,
      "outputs": [
        {
          "output_type": "error",
          "ename": "TypeError",
          "evalue": "ignored",
          "traceback": [
            "\u001b[0;31m---------------------------------------------------------------------------\u001b[0m",
            "\u001b[0;31mTypeError\u001b[0m                                 Traceback (most recent call last)",
            "\u001b[0;32m<ipython-input-56-3ff831cf671f>\u001b[0m in \u001b[0;36m<module>\u001b[0;34m()\u001b[0m\n\u001b[1;32m      1\u001b[0m \u001b[0;31m#mini project\u001b[0m\u001b[0;34m\u001b[0m\u001b[0;34m\u001b[0m\u001b[0;34m\u001b[0m\u001b[0m\n\u001b[0;32m----> 2\u001b[0;31m \u001b[0ma\u001b[0m\u001b[0;34m=\u001b[0m \u001b[0mnp\u001b[0m\u001b[0;34m.\u001b[0m\u001b[0marray\u001b[0m \u001b[0;34m(\u001b[0m\u001b[0;34m)\u001b[0m\u001b[0;34m\u001b[0m\u001b[0;34m\u001b[0m\u001b[0m\n\u001b[0m",
            "\u001b[0;31mTypeError\u001b[0m: array() missing required argument 'object' (pos 1)"
          ]
        }
      ]
    },
    {
      "cell_type": "code",
      "metadata": {
        "id": "aqmAuH3afX67"
      },
      "source": [
        "data_file ='/content/makeSenseOfCensus.csv'\n",
        "data = np.genfromtxt(data_file, delimiter=\",\", skip_header=1)"
      ],
      "execution_count": 30,
      "outputs": []
    },
    {
      "cell_type": "code",
      "metadata": {
        "id": "Uh4RBItCLnDJ"
      },
      "source": [
        ""
      ],
      "execution_count": 30,
      "outputs": []
    },
    {
      "cell_type": "code",
      "metadata": {
        "colab": {
          "base_uri": "https://localhost:8080/"
        },
        "id": "5Z56yp_rfZv9",
        "outputId": "8e4f9786-a420-4571-8165-56f1e0a2651b"
      },
      "source": [
        "print(\"\\nData: \\n\\n\", data)"
      ],
      "execution_count": 31,
      "outputs": [
        {
          "output_type": "stream",
          "name": "stdout",
          "text": [
            "\n",
            "Data: \n",
            "\n",
            " [[39. 13.  4. ...  0. 40.  0.]\n",
            " [50. 13.  4. ...  0. 13.  0.]\n",
            " [38.  9.  4. ...  0. 40.  0.]\n",
            " ...\n",
            " [48. 13.  4. ...  0. 58.  1.]\n",
            " [40. 10.  4. ...  0. 40.  0.]\n",
            " [39. 13.  4. ...  0. 50.  1.]]\n"
          ]
        }
      ]
    },
    {
      "cell_type": "code",
      "metadata": {
        "colab": {
          "base_uri": "https://localhost:8080/"
        },
        "id": "NgcXhXKSffJA",
        "outputId": "46935944-7477-4ec4-9ebd-466f1dc1230e"
      },
      "source": [
        "print(\"\\nType of data: \\n\\n\", type(data))"
      ],
      "execution_count": 32,
      "outputs": [
        {
          "output_type": "stream",
          "name": "stdout",
          "text": [
            "\n",
            "Type of data: \n",
            "\n",
            " <class 'numpy.ndarray'>\n"
          ]
        }
      ]
    },
    {
      "cell_type": "markdown",
      "metadata": {
        "id": "jDSZX_p1i4F_"
      },
      "source": [
        ""
      ]
    },
    {
      "cell_type": "code",
      "metadata": {
        "colab": {
          "base_uri": "https://localhost:8080/"
        },
        "id": "ycz-iD9Pga8c",
        "outputId": "c0f3c138-b1b7-4778-b3f5-9dfbc5595732"
      },
      "source": [
        "print(\"\\nData: \\n\\n\", data)"
      ],
      "execution_count": 33,
      "outputs": [
        {
          "output_type": "stream",
          "name": "stdout",
          "text": [
            "\n",
            "Data: \n",
            "\n",
            " [[39. 13.  4. ...  0. 40.  0.]\n",
            " [50. 13.  4. ...  0. 13.  0.]\n",
            " [38.  9.  4. ...  0. 40.  0.]\n",
            " ...\n",
            " [48. 13.  4. ...  0. 58.  1.]\n",
            " [40. 10.  4. ...  0. 40.  0.]\n",
            " [39. 13.  4. ...  0. 50.  1.]]\n"
          ]
        }
      ]
    },
    {
      "cell_type": "code",
      "metadata": {
        "colab": {
          "base_uri": "https://localhost:8080/"
        },
        "id": "zzoSRCNAk27N",
        "outputId": "23769bab-e524-4dae-bb23-5fbe8b0e9c87"
      },
      "source": [
        "new_record= np.array([[50, 9, 4, 1, 0, 0, 40, 0]], dtype=\"float\") \n",
        "print(new_record)\n",
        "np.concatenate((new_record,data))"
      ],
      "execution_count": 34,
      "outputs": [
        {
          "output_type": "stream",
          "name": "stdout",
          "text": [
            "[[50.  9.  4.  1.  0.  0. 40.  0.]]\n"
          ]
        },
        {
          "output_type": "execute_result",
          "data": {
            "text/plain": [
              "array([[50.,  9.,  4., ...,  0., 40.,  0.],\n",
              "       [39., 13.,  4., ...,  0., 40.,  0.],\n",
              "       [50., 13.,  4., ...,  0., 13.,  0.],\n",
              "       ...,\n",
              "       [48., 13.,  4., ...,  0., 58.,  1.],\n",
              "       [40., 10.,  4., ...,  0., 40.,  0.],\n",
              "       [39., 13.,  4., ...,  0., 50.,  1.]])"
            ]
          },
          "metadata": {},
          "execution_count": 34
        }
      ]
    },
    {
      "cell_type": "code",
      "metadata": {
        "colab": {
          "base_uri": "https://localhost:8080/"
        },
        "id": "eGFMZsjBm2fU",
        "outputId": "f88ce9c1-d186-4bc8-d1c0-328721c3901f"
      },
      "source": [
        "age=np.array(data[:,0])\n",
        "print(age)"
      ],
      "execution_count": 35,
      "outputs": [
        {
          "output_type": "stream",
          "name": "stdout",
          "text": [
            "[39. 50. 38. 53. 28. 37. 49. 52. 31. 42. 37. 30. 23. 32. 40. 34. 25. 32.\n",
            " 38. 43. 40. 54. 35. 43. 59. 56. 19. 54. 39. 49. 23. 20. 45. 30. 22. 48.\n",
            " 21. 19. 31. 48. 31. 53. 24. 49. 25. 57. 53. 44. 41. 29. 25. 18. 47. 50.\n",
            " 47. 43. 46. 35. 41. 30. 30. 32. 48. 42. 29. 36. 28. 53. 49. 25. 19. 31.\n",
            " 29. 23. 79. 27. 40. 67. 18. 31. 18. 52. 46. 59. 44. 53. 49. 33. 30. 43.\n",
            " 57. 37. 28. 30. 34. 29. 48. 37. 48. 32. 76. 44. 47. 20. 29. 32. 17. 30.\n",
            " 31. 42. 24. 38. 56. 28. 36. 53. 56. 49. 55. 22. 21. 40. 30. 29. 19. 47.\n",
            " 20. 31. 35. 39. 28. 24. 38. 37. 46. 38. 43. 27. 20. 49. 61. 27. 19. 45.\n",
            " 70. 31. 22. 36. 64. 43. 47. 34. 33. 21. 52. 48. 23. 71. 29. 42. 68. 25.\n",
            " 44. 28. 45. 36. 39. 46. 18. 66. 27. 28. 51. 27. 28. 27. 21. 34. 18. 33.\n",
            " 44. 43. 30. 40. 37. 34. 41. 53. 31. 58. 38. 24. 41. 47. 41. 23. 36. 40.\n",
            " 35. 24. 26. 19. 51. 42. 37. 18. 36. 35. 58. 17. 44. 37. 35. 60. 54. 37.\n",
            " 50. 38. 45. 25. 31. 64. 90. 54. 53. 18. 60. 66. 75. 65. 35. 41. 25. 33.\n",
            " 28. 59. 40. 41. 38. 23. 40. 41. 24. 20. 38. 56. 58. 32. 40. 45. 41. 42.\n",
            " 59. 19. 58. 42. 20. 32. 45. 50. 36. 45. 17. 59. 26. 37. 19. 64. 33. 33.\n",
            " 61. 17. 50. 27. 30. 43. 44. 35. 25. 24. 22. 42. 34. 60. 21. 57. 41. 50.\n",
            " 25. 50. 36. 31. 29. 21. 27. 65. 37. 39. 24. 38. 48. 21. 31. 55. 24. 43.\n",
            " 26. 46. 35. 41. 26. 34. 19. 36. 22. 24. 77. 22. 29. 62. 39. 43. 35. 29.\n",
            " 76. 63. 23. 43. 58. 66. 41. 26. 47. 55. 53. 17. 30. 49. 19. 45. 26. 38.\n",
            " 36. 33. 22. 43. 67. 30. 56. 31. 33. 26. 33. 46. 59. 38. 65. 40. 42. 26.\n",
            " 36. 62. 43. 43. 22. 28. 56. 22. 57. 39. 26. 17. 40. 45. 44. 20. 33. 23.\n",
            " 46. 38. 54. 46. 25. 46. 36. 23. 29. 44. 19. 19. 35. 27. 46. 34. 34. 44.\n",
            " 45. 20. 25. 52. 20. 28. 50. 34. 28. 41. 28. 46. 28. 32. 41. 24. 33. 46.\n",
            " 31. 35. 52. 30. 34. 34. 20. 17. 32. 29. 33. 25. 36. 23. 63. 47. 80. 17.\n",
            " 40. 30. 27. 33. 34. 34. 23. 42. 29. 45. 24. 44. 27. 20. 44. 51. 20. 17.\n",
            " 19. 45. 60. 42. 44. 40. 30. 38. 23. 32. 44. 54. 32. 50. 24. 37. 52. 38.\n",
            " 49. 30. 60. 22. 35. 30. 67. 46. 17. 22. 27. 23. 33. 43. 28. 41. 52. 25.\n",
            " 63. 59. 45. 38. 40. 46. 35. 34. 33. 41. 20. 23. 26. 72. 23. 62. 52. 58.\n",
            " 25. 24. 19. 43. 47. 39. 49. 53. 32. 34. 28. 57. 25. 20. 21. 34. 38. 50.\n",
            " 24. 37. 44. 28. 42. 74. 38. 44. 44. 26. 36. 41. 67. 39. 57. 29. 31. 34.\n",
            " 44. 29. 30. 27. 27. 32. 58. 35. 21. 28. 46. 36. 72. 35. 33. 69. 35. 31.\n",
            " 34. 30. 28. 54. 47. 24. 52. 20. 43. 45. 29. 47. 24. 51. 17. 37. 27. 29.\n",
            " 18. 36. 58. 26. 65. 57. 59. 27. 31. 21. 29. 18. 52. 57. 42. 55. 60. 31.\n",
            " 23. 27. 23. 42. 25. 49. 32. 19. 60. 42. 35. 48. 51. 29. 36. 17. 52. 24.\n",
            " 24. 26. 27. 39. 30. 50. 52. 46. 23. 45. 65. 29. 47. 30. 34. 38. 33. 49.\n",
            " 47. 49. 43. 30. 58. 19. 21. 33. 47. 52. 26. 60. 21. 36. 31. 50. 31. 71.\n",
            " 58. 30. 20. 24. 35. 38. 27. 29. 70. 34. 44. 43. 44. 35. 27. 43. 20. 42.\n",
            " 27. 42. 20. 24. 48. 17. 17. 33. 50. 22. 17. 32. 31. 58. 29. 37. 34. 23.\n",
            " 18. 34. 66. 45. 41. 26. 54. 24. 42. 20. 23. 25. 35. 31. 30. 19. 36. 31.\n",
            " 21. 31. 46. 44. 40. 45. 60. 18. 28. 36. 36. 40. 36. 31. 33. 19. 22. 34.\n",
            " 33. 41. 29. 50. 42. 43. 44. 20. 31. 65. 23. 55. 26. 25. 45. 35. 36. 43.\n",
            " 56. 42. 19. 55. 42. 26. 17. 42. 55. 32. 29. 46. 29. 22. 58. 23. 39. 27.\n",
            " 54. 33. 46. 37. 36. 59. 34. 53. 51. 32. 31. 22. 47. 32. 26. 37. 31. 37.\n",
            " 55. 23. 36. 34. 43. 54. 43. 28. 40. 41. 40. 42. 61. 18. 59. 21. 48. 41.\n",
            " 18. 23. 60. 22. 61. 25. 46. 43. 43. 24. 68. 31. 17. 32. 50. 33. 64. 20.\n",
            " 30. 22. 43. 22. 17. 47. 41. 56. 64. 47. 48. 31. 29. 30. 32. 57. 62. 39.\n",
            " 43. 24. 42. 53. 26. 73. 72. 55. 25. 41. 24. 63. 17. 35. 51. 62. 55. 43.\n",
            " 40. 37. 39. 31. 61. 26. 46. 26. 48. 34. 34. 59. 34. 49. 18. 43. 48. 28.\n",
            " 33. 24. 21. 17. 39. 29. 44. 24. 71. 51. 55. 41. 23. 38. 39. 19. 49. 32.\n",
            " 27. 38. 33. 63. 23. 33. 54. 29. 48. 35. 28. 37. 42. 40. 47. 22. 30. 28.\n",
            " 63. 51. 22. 27. 35. 46. 37. 24. 37. 53. 27. 38. 53. 34. 23. 39. 43. 67.\n",
            " 81. 21. 23. 25. 42. 38. 64. 32. 37. 51. 22. 33. 42. 19. 51. 23. 37. 37.\n",
            " 47. 41. 33. 31. 31. 35. 38. 18. 20. 54. 40. 36. 43. 44. 44. 43. 51. 18.\n",
            " 51. 41. 44. 33. 33. 42. 25. 32. 32. 36. 28. 20. 35. 55. 48. 36. 34. 28.\n",
            " 67. 37. 44. 25. 21. 40. 78. 34. 49. 22. 23. 60. 45. 63. 41. 47. 44. 51.\n",
            " 46. 41. 50. 47. 35. 56. 45. 48. 40. 39.]\n"
          ]
        }
      ]
    },
    {
      "cell_type": "code",
      "metadata": {
        "colab": {
          "base_uri": "https://localhost:8080/"
        },
        "id": "ajUUbedtpSIJ",
        "outputId": "72d6b54e-9313-46ce-bd8e-8cd5655b56fb"
      },
      "source": [
        "max_age = max(age)\n",
        "print(max_age)"
      ],
      "execution_count": 36,
      "outputs": [
        {
          "output_type": "stream",
          "name": "stdout",
          "text": [
            "90.0\n"
          ]
        }
      ]
    },
    {
      "cell_type": "code",
      "metadata": {
        "colab": {
          "base_uri": "https://localhost:8080/"
        },
        "id": "RWAKejYcscs8",
        "outputId": "a945bfe8-f7ea-4141-cc70-1a58298e467c"
      },
      "source": [
        "min_age = min(age)\n",
        "print(min_age)"
      ],
      "execution_count": 37,
      "outputs": [
        {
          "output_type": "stream",
          "name": "stdout",
          "text": [
            "17.0\n"
          ]
        }
      ]
    },
    {
      "cell_type": "code",
      "metadata": {
        "colab": {
          "base_uri": "https://localhost:8080/"
        },
        "id": "A8YW4cf4suZJ",
        "outputId": "24f3ee68-c91e-4051-b560-9e397392a87e"
      },
      "source": [
        "mean_age = np.mean(age)\n",
        "print(mean_age)"
      ],
      "execution_count": 38,
      "outputs": [
        {
          "output_type": "stream",
          "name": "stdout",
          "text": [
            "38.051\n"
          ]
        }
      ]
    },
    {
      "cell_type": "code",
      "metadata": {
        "colab": {
          "base_uri": "https://localhost:8080/"
        },
        "id": "uQP_el3OtXje",
        "outputId": "bae1e2ae-4671-49d6-d3f6-7de70d38718c"
      },
      "source": [
        "std_age = np.std(age)\n",
        "print(std_age)"
      ],
      "execution_count": 39,
      "outputs": [
        {
          "output_type": "stream",
          "name": "stdout",
          "text": [
            "13.342803266180612\n"
          ]
        }
      ]
    },
    {
      "cell_type": "code",
      "metadata": {
        "colab": {
          "base_uri": "https://localhost:8080/"
        },
        "id": "Yqdqjdu_uEa0",
        "outputId": "349593f5-0c54-4bf9-eb44-0e3a342433fc"
      },
      "source": [
        "Race=np.array(data[:,2])\n",
        "print(Race)"
      ],
      "execution_count": 40,
      "outputs": [
        {
          "output_type": "stream",
          "name": "stdout",
          "text": [
            "[4. 4. 4. 2. 2. 4. 2. 4. 4. 4. 2. 1. 4. 2. 1. 0. 4. 4. 4. 4. 4. 2. 2. 4.\n",
            " 4. 4. 4. 1. 4. 4. 4. 2. 4. 4. 2. 4. 4. 4. 4. 4. 4. 4. 4. 4. 4. 2. 4. 4.\n",
            " 4. 4. 3. 4. 4. 4. 4. 4. 4. 4. 4. 4. 4. 4. 4. 4. 4. 4. 4. 4. 4. 4. 4. 2.\n",
            " 4. 4. 4. 4. 4. 4. 4. 4. 4. 4. 4. 4. 4. 4. 4. 4. 4. 4. 4. 4. 2. 1. 4. 4.\n",
            " 4. 4. 4. 2. 4. 4. 4. 4. 4. 4. 4. 4. 4. 4. 4. 4. 4. 4. 4. 4. 4. 2. 4. 4.\n",
            " 4. 4. 2. 4. 2. 4. 4. 4. 4. 4. 4. 4. 4. 4. 2. 4. 4. 4. 4. 1. 4. 4. 4. 4.\n",
            " 4. 2. 4. 4. 4. 4. 4. 4. 1. 4. 4. 4. 4. 2. 4. 2. 4. 4. 1. 1. 4. 4. 4. 4.\n",
            " 4. 4. 4. 4. 4. 4. 4. 4. 2. 2. 4. 4. 2. 4. 2. 4. 4. 2. 4. 4. 4. 4. 2. 4.\n",
            " 2. 4. 4. 4. 4. 4. 4. 4. 4. 4. 4. 4. 4. 4. 2. 4. 4. 4. 2. 4. 0. 1. 4. 2.\n",
            " 4. 4. 4. 4. 4. 4. 2. 2. 4. 4. 0. 4. 4. 4. 2. 2. 4. 3. 4. 4. 4. 4. 4. 4.\n",
            " 4. 4. 4. 4. 4. 4. 4. 4. 4. 4. 4. 2. 2. 4. 4. 1. 4. 4. 4. 4. 4. 4. 4. 4.\n",
            " 4. 1. 4. 4. 4. 4. 4. 4. 4. 4. 4. 2. 4. 4. 4. 4. 4. 4. 2. 4. 4. 4. 4. 4.\n",
            " 4. 4. 4. 4. 4. 4. 2. 4. 4. 1. 4. 4. 4. 1. 4. 4. 1. 4. 4. 4. 4. 4. 4. 1.\n",
            " 2. 2. 4. 4. 4. 4. 4. 4. 4. 4. 4. 4. 4. 4. 2. 4. 4. 4. 2. 4. 4. 4. 4. 4.\n",
            " 4. 4. 2. 2. 4. 4. 4. 4. 2. 4. 4. 4. 4. 4. 4. 4. 4. 4. 4. 4. 3. 4. 4. 4.\n",
            " 4. 4. 4. 4. 4. 4. 4. 4. 4. 4. 4. 4. 4. 2. 2. 4. 4. 4. 4. 4. 4. 4. 4. 4.\n",
            " 4. 4. 4. 4. 4. 4. 4. 4. 4. 4. 4. 4. 4. 4. 4. 4. 4. 4. 4. 4. 3. 4. 4. 4.\n",
            " 4. 4. 2. 2. 4. 4. 4. 4. 4. 4. 2. 4. 4. 4. 4. 4. 4. 4. 4. 4. 4. 4. 4. 4.\n",
            " 4. 4. 1. 4. 2. 4. 4. 4. 4. 4. 4. 4. 4. 4. 2. 0. 4. 4. 2. 4. 4. 2. 4. 1.\n",
            " 4. 2. 4. 4. 4. 2. 4. 4. 4. 4. 4. 4. 4. 4. 4. 4. 4. 4. 4. 4. 4. 4. 4. 4.\n",
            " 4. 4. 4. 4. 2. 2. 4. 4. 4. 4. 4. 4. 4. 4. 4. 4. 4. 4. 4. 4. 4. 4. 4. 4.\n",
            " 4. 2. 4. 4. 2. 4. 4. 2. 4. 4. 4. 4. 0. 4. 4. 4. 4. 4. 2. 4. 4. 4. 4. 4.\n",
            " 4. 4. 3. 4. 2. 4. 4. 4. 2. 4. 4. 2. 4. 4. 4. 4. 4. 4. 4. 4. 4. 4. 4. 4.\n",
            " 4. 2. 2. 4. 4. 4. 4. 4. 4. 4. 4. 2. 4. 0. 4. 4. 4. 4. 4. 4. 4. 4. 4. 4.\n",
            " 4. 4. 4. 4. 4. 4. 4. 4. 4. 4. 4. 4. 4. 4. 4. 1. 4. 4. 4. 4. 0. 4. 4. 4.\n",
            " 4. 4. 4. 4. 4. 2. 4. 0. 2. 4. 4. 4. 4. 4. 4. 4. 2. 4. 4. 4. 4. 2. 2. 4.\n",
            " 4. 2. 4. 4. 4. 4. 2. 2. 4. 2. 4. 4. 4. 4. 4. 4. 4. 4. 4. 4. 4. 4. 4. 4.\n",
            " 4. 4. 4. 4. 1. 4. 4. 1. 4. 4. 4. 4. 2. 4. 4. 4. 4. 4. 4. 2. 1. 4. 4. 4.\n",
            " 4. 4. 4. 4. 4. 4. 4. 4. 4. 4. 4. 2. 4. 4. 4. 4. 4. 4. 4. 2. 4. 4. 4. 4.\n",
            " 4. 4. 4. 4. 4. 4. 4. 4. 4. 4. 2. 2. 4. 4. 4. 2. 4. 4. 4. 2. 4. 4. 4. 4.\n",
            " 4. 4. 4. 4. 4. 4. 4. 4. 4. 4. 4. 1. 4. 4. 2. 4. 2. 4. 2. 4. 4. 4. 4. 4.\n",
            " 4. 4. 4. 2. 2. 4. 4. 4. 4. 4. 4. 4. 4. 4. 4. 2. 4. 4. 4. 4. 4. 4. 4. 4.\n",
            " 4. 4. 4. 4. 4. 4. 4. 4. 4. 4. 4. 4. 4. 4. 4. 4. 3. 2. 4. 4. 4. 4. 4. 4.\n",
            " 4. 4. 4. 2. 4. 2. 4. 4. 4. 2. 4. 4. 4. 4. 4. 4. 4. 4. 4. 2. 4. 4. 4. 4.\n",
            " 4. 4. 4. 4. 4. 4. 4. 4. 4. 4. 4. 4. 4. 4. 4. 4. 4. 4. 4. 4. 4. 4. 4. 4.\n",
            " 4. 4. 4. 4. 4. 4. 4. 4. 4. 4. 4. 4. 4. 4. 4. 4. 4. 4. 4. 4. 4. 4. 4. 4.\n",
            " 4. 4. 4. 4. 4. 4. 4. 4. 4. 1. 2. 4. 2. 4. 4. 4. 4. 4. 4. 4. 4. 4. 4. 4.\n",
            " 2. 4. 2. 4. 1. 4. 4. 4. 4. 4. 4. 4. 4. 4. 4. 0. 4. 4. 4. 2. 4. 4. 4. 4.\n",
            " 4. 4. 2. 4. 1. 1. 4. 4. 4. 4. 4. 2. 4. 4. 4. 4. 4. 4. 4. 4. 4. 4. 4. 4.\n",
            " 4. 4. 4. 4. 0. 2. 4. 4. 4. 2. 4. 4. 4. 4. 4. 4. 2. 4. 4. 4. 4. 4. 4. 4.\n",
            " 4. 4. 4. 4. 4. 4. 4. 4. 1. 4. 4. 4. 4. 4. 4. 4. 4. 4. 2. 4. 4. 4. 2. 4.\n",
            " 4. 4. 2. 4. 4. 4. 4. 4. 4. 4. 4. 4. 4. 4. 4. 4.]\n"
          ]
        }
      ]
    },
    {
      "cell_type": "code",
      "metadata": {
        "colab": {
          "base_uri": "https://localhost:8080/"
        },
        "id": "wF0rfIv4wrQ_",
        "outputId": "80a822e5-35d3-48ca-e03e-42ddda49643c"
      },
      "source": [
        "race_0=data[data[:,2]==0]\n",
        "len_0=len(race_0)\n",
        "print(len_0)"
      ],
      "execution_count": 41,
      "outputs": [
        {
          "output_type": "stream",
          "name": "stdout",
          "text": [
            "10\n"
          ]
        }
      ]
    },
    {
      "cell_type": "code",
      "metadata": {
        "colab": {
          "base_uri": "https://localhost:8080/"
        },
        "id": "-pn_7HQUye-h",
        "outputId": "601a35d5-323c-40d6-864a-042a1ab4760c"
      },
      "source": [
        "race_1=data[data[:,2]==1]\n",
        "len_1=len(race_1)\n",
        "print(len_1)"
      ],
      "execution_count": 42,
      "outputs": [
        {
          "output_type": "stream",
          "name": "stdout",
          "text": [
            "27\n"
          ]
        }
      ]
    },
    {
      "cell_type": "code",
      "metadata": {
        "colab": {
          "base_uri": "https://localhost:8080/"
        },
        "id": "WboAXiJS0FKO",
        "outputId": "2dc2ba0d-77b4-4077-e788-44591ccb8396"
      },
      "source": [
        "race_2=data[data[:,2]==2]\n",
        "len_2=len(race_2)\n",
        "print(len_2)"
      ],
      "execution_count": 43,
      "outputs": [
        {
          "output_type": "stream",
          "name": "stdout",
          "text": [
            "110\n"
          ]
        }
      ]
    },
    {
      "cell_type": "code",
      "metadata": {
        "colab": {
          "base_uri": "https://localhost:8080/"
        },
        "id": "apn1rOio0Fwu",
        "outputId": "bc76774f-e6b7-4841-c04a-f0ab924e1db0"
      },
      "source": [
        "race_3=data[data[:,2]==3]\n",
        "len_3=len(race_3)\n",
        "print(len_3)\n"
      ],
      "execution_count": 44,
      "outputs": [
        {
          "output_type": "stream",
          "name": "stdout",
          "text": [
            "6\n"
          ]
        }
      ]
    },
    {
      "cell_type": "code",
      "metadata": {
        "colab": {
          "base_uri": "https://localhost:8080/"
        },
        "id": "Q56-26go1QRR",
        "outputId": "4079fa8c-1960-4235-ecf5-c210151165d9"
      },
      "source": [
        "race_4=data[data[:,2]==4]\n",
        "len_4=len(race_4)\n",
        "print(len_4)"
      ],
      "execution_count": 45,
      "outputs": [
        {
          "output_type": "stream",
          "name": "stdout",
          "text": [
            "847\n"
          ]
        }
      ]
    },
    {
      "cell_type": "markdown",
      "metadata": {
        "id": "daMOlMuTQ_v4"
      },
      "source": [
        "The Race 3 is the minority"
      ]
    },
    {
      "cell_type": "code",
      "metadata": {
        "colab": {
          "base_uri": "https://localhost:8080/"
        },
        "id": "snMBanpaQ5hM",
        "outputId": "751938d7-e8c5-42a4-fbca-8ac66865fe40"
      },
      "source": [
        "minority_race=len(race_3)\n",
        "print(minority_race)"
      ],
      "execution_count": 46,
      "outputs": [
        {
          "output_type": "stream",
          "name": "stdout",
          "text": [
            "6\n"
          ]
        }
      ]
    },
    {
      "cell_type": "code",
      "metadata": {
        "id": "aPa4iejzRVRC"
      },
      "source": [
        "senior_citizens=data[age>60]"
      ],
      "execution_count": 47,
      "outputs": []
    },
    {
      "cell_type": "code",
      "metadata": {
        "colab": {
          "base_uri": "https://localhost:8080/"
        },
        "id": "zxXLODfoRyWB",
        "outputId": "e44d3259-5a89-409c-a2ff-39688294b08e"
      },
      "source": [
        "\n",
        "senior_citizens_len=len(senior_citizens)\n",
        "len(senior_citizens)"
      ],
      "execution_count": 48,
      "outputs": [
        {
          "output_type": "execute_result",
          "data": {
            "text/plain": [
              "61"
            ]
          },
          "metadata": {},
          "execution_count": 48
        }
      ]
    },
    {
      "cell_type": "code",
      "metadata": {
        "id": "Hv_xRoVNR3e8"
      },
      "source": [
        "\n",
        "senior_citizens=data[data[:,0]>60]\n",
        "print(senior_citizens)\n"
      ],
      "execution_count": null,
      "outputs": []
    },
    {
      "cell_type": "code",
      "metadata": {
        "colab": {
          "base_uri": "https://localhost:8080/"
        },
        "id": "RIGid4KNgRhi",
        "outputId": "1c63eb47-7513-4875-873b-d49c9500c288"
      },
      "source": [
        "working_hours_sum=np.sum(senior_citizens[:,6])\n",
        "print(working_hours_sum)"
      ],
      "execution_count": 50,
      "outputs": [
        {
          "output_type": "stream",
          "name": "stdout",
          "text": [
            "1917.0\n"
          ]
        }
      ]
    },
    {
      "cell_type": "code",
      "metadata": {
        "colab": {
          "base_uri": "https://localhost:8080/"
        },
        "id": "oLPvOO96hgO4",
        "outputId": "f245e58c-2ad5-47b3-8e72-367b445e7330"
      },
      "source": [
        "avg_working_hours=np.divide(working_hours_sum,senior_citizens_len)\n",
        "print(avg_working_hours)"
      ],
      "execution_count": 51,
      "outputs": [
        {
          "output_type": "stream",
          "name": "stdout",
          "text": [
            "31.42622950819672\n"
          ]
        }
      ]
    },
    {
      "cell_type": "markdown",
      "metadata": {
        "id": "GgO-ippln8Wr"
      },
      "source": [
        "The government policy is not followed\n"
      ]
    },
    {
      "cell_type": "code",
      "metadata": {
        "colab": {
          "base_uri": "https://localhost:8080/"
        },
        "id": "iFELw9JGr-Rj",
        "outputId": "8830ccfb-97e9-440a-cc4f-f558def409b4"
      },
      "source": [
        "high=data[data[:,1]>10]\n",
        "print(high)"
      ],
      "execution_count": 52,
      "outputs": [
        {
          "output_type": "stream",
          "name": "stdout",
          "text": [
            "[[39. 13.  4. ...  0. 40.  0.]\n",
            " [50. 13.  4. ...  0. 13.  0.]\n",
            " [28. 13.  2. ...  0. 40.  0.]\n",
            " ...\n",
            " [45. 14.  4. ...  0. 45.  0.]\n",
            " [48. 13.  4. ...  0. 58.  1.]\n",
            " [39. 13.  4. ...  0. 50.  1.]]\n"
          ]
        }
      ]
    },
    {
      "cell_type": "code",
      "metadata": {
        "colab": {
          "base_uri": "https://localhost:8080/"
        },
        "id": "hzCGbM0Is20U",
        "outputId": "79342ee2-8cbd-4787-a4b3-02098e8b3b9e"
      },
      "source": [
        "low=data[data[:,2]<=10]\n",
        "print(low)"
      ],
      "execution_count": 53,
      "outputs": [
        {
          "output_type": "stream",
          "name": "stdout",
          "text": [
            "[[39. 13.  4. ...  0. 40.  0.]\n",
            " [50. 13.  4. ...  0. 13.  0.]\n",
            " [38.  9.  4. ...  0. 40.  0.]\n",
            " ...\n",
            " [48. 13.  4. ...  0. 58.  1.]\n",
            " [40. 10.  4. ...  0. 40.  0.]\n",
            " [39. 13.  4. ...  0. 50.  1.]]\n"
          ]
        }
      ]
    },
    {
      "cell_type": "code",
      "metadata": {
        "colab": {
          "base_uri": "https://localhost:8080/"
        },
        "id": "yC7GL-9ctYog",
        "outputId": "e3abbfc1-e02a-4e44-d839-896bc873d187"
      },
      "source": [
        "avg_pay_high=np.mean(high[:,7])\n",
        "print(avg_pay_high)"
      ],
      "execution_count": 54,
      "outputs": [
        {
          "output_type": "stream",
          "name": "stdout",
          "text": [
            "0.42813455657492355\n"
          ]
        }
      ]
    },
    {
      "cell_type": "code",
      "metadata": {
        "colab": {
          "base_uri": "https://localhost:8080/"
        },
        "id": "DLxD3lC9uXxH",
        "outputId": "1643c3e1-85f2-42ea-ea79-e9dd153af330"
      },
      "source": [
        "avg_pay_low=np.mean(low[:,7])\n",
        "print(avg_pay_low)"
      ],
      "execution_count": 55,
      "outputs": [
        {
          "output_type": "stream",
          "name": "stdout",
          "text": [
            "0.232\n"
          ]
        }
      ]
    },
    {
      "cell_type": "markdown",
      "metadata": {
        "id": "DJiFMqnBun4Q"
      },
      "source": [
        "Yes the higher educated peopple have better pay in general"
      ]
    },
    {
      "cell_type": "code",
      "metadata": {
        "id": "Lon60zQH0gLS"
      },
      "source": [
        ""
      ],
      "execution_count": 55,
      "outputs": []
    }
  ]
}