{
  "nbformat": 4,
  "nbformat_minor": 0,
  "metadata": {
    "colab": {
      "name": "Numpy project.ipynb",
      "provenance": [],
      "authorship_tag": "ABX9TyP2UY4jAazOkhN1dkRv9k0V",
      "include_colab_link": true
    },
    "kernelspec": {
      "name": "python3",
      "display_name": "Python 3"
    },
    "language_info": {
      "name": "python"
    }
  },
  "cells": [
    {
      "cell_type": "markdown",
      "metadata": {
        "id": "view-in-github",
        "colab_type": "text"
      },
      "source": [
        "<a href=\"https://colab.research.google.com/github/maielhadad99/first/blob/master/Numpy_project.ipynb\" target=\"_parent\"><img src=\"https://colab.research.google.com/assets/colab-badge.svg\" alt=\"Open In Colab\"/></a>"
      ]
    },
    {
      "cell_type": "code",
      "metadata": {
        "id": "FlpDNMyq3F0k"
      },
      "source": [
        "import numpy as np"
      ],
      "execution_count": null,
      "outputs": []
    },
    {
      "cell_type": "code",
      "metadata": {
        "id": "Od-k50pk2ncV"
      },
      "source": [
        "data_file =\"/content/KAG_Conversion_Data.csv\"\n",
        "data = np.genfromtxt(data_file, delimiter=\",\", skip_header=1)"
      ],
      "execution_count": null,
      "outputs": []
    },
    {
      "cell_type": "code",
      "metadata": {
        "colab": {
          "base_uri": "https://localhost:8080/"
        },
        "id": "WMwRhXMc3M7x",
        "outputId": "90102b59-b1ed-4cb3-f2af-ed663d9d9736"
      },
      "source": [
        "print(data)"
      ],
      "execution_count": null,
      "outputs": [
        {
          "output_type": "stream",
          "name": "stdout",
          "text": [
            "[[7.08746000e+05 9.16000000e+02 1.03916000e+05 ... 1.42999995e+00\n",
            "  2.00000000e+00 1.00000000e+00]\n",
            " [7.08749000e+05 9.16000000e+02 1.03917000e+05 ... 1.82000002e+00\n",
            "  2.00000000e+00 0.00000000e+00]\n",
            " [7.08771000e+05 9.16000000e+02 1.03920000e+05 ... 0.00000000e+00\n",
            "  1.00000000e+00 0.00000000e+00]\n",
            " ...\n",
            " [1.31441200e+06 1.17800000e+03 1.79979000e+05 ... 4.02899995e+01\n",
            "  2.00000000e+00 0.00000000e+00]\n",
            " [1.31441400e+06 1.17800000e+03 1.79981000e+05 ... 1.98710001e+02\n",
            "  8.00000000e+00 2.00000000e+00]\n",
            " [1.31441500e+06 1.17800000e+03 1.79982000e+05 ... 1.65609999e+02\n",
            "  5.00000000e+00 2.00000000e+00]]\n"
          ]
        }
      ]
    },
    {
      "cell_type": "code",
      "metadata": {
        "colab": {
          "base_uri": "https://localhost:8080/"
        },
        "id": "rvbdjqPg3oJP",
        "outputId": "a5216b6c-2dc6-4086-a509-6cbcbb3453e3"
      },
      "source": [
        "print(\"\\nData: \\n\\n\", data)"
      ],
      "execution_count": null,
      "outputs": [
        {
          "output_type": "stream",
          "name": "stdout",
          "text": [
            "\n",
            "Data: \n",
            "\n",
            " [[7.08746000e+05 9.16000000e+02 1.03916000e+05 ... 1.42999995e+00\n",
            "  2.00000000e+00 1.00000000e+00]\n",
            " [7.08749000e+05 9.16000000e+02 1.03917000e+05 ... 1.82000002e+00\n",
            "  2.00000000e+00 0.00000000e+00]\n",
            " [7.08771000e+05 9.16000000e+02 1.03920000e+05 ... 0.00000000e+00\n",
            "  1.00000000e+00 0.00000000e+00]\n",
            " ...\n",
            " [1.31441200e+06 1.17800000e+03 1.79979000e+05 ... 4.02899995e+01\n",
            "  2.00000000e+00 0.00000000e+00]\n",
            " [1.31441400e+06 1.17800000e+03 1.79981000e+05 ... 1.98710001e+02\n",
            "  8.00000000e+00 2.00000000e+00]\n",
            " [1.31441500e+06 1.17800000e+03 1.79982000e+05 ... 1.65609999e+02\n",
            "  5.00000000e+00 2.00000000e+00]]\n"
          ]
        }
      ]
    },
    {
      "cell_type": "code",
      "metadata": {
        "colab": {
          "base_uri": "https://localhost:8080/"
        },
        "id": "ZIPdgpos_eXJ",
        "outputId": "8b8ba85b-6062-4e41-d95b-c8d8a186ecdc"
      },
      "source": [
        "data[:,1]"
      ],
      "execution_count": null,
      "outputs": [
        {
          "output_type": "execute_result",
          "data": {
            "text/plain": [
              "array([ 916.,  916.,  916., ..., 1178., 1178., 1178.])"
            ]
          },
          "metadata": {},
          "execution_count": 20
        }
      ]
    },
    {
      "cell_type": "code",
      "metadata": {
        "colab": {
          "base_uri": "https://localhost:8080/"
        },
        "id": "3b9X8Co_Drt1",
        "outputId": "16e9d842-0b01-4740-b9f3-209f9cfc6a68"
      },
      "source": [
        "np.unique(data[:,1],return_counts=True) "
      ],
      "execution_count": null,
      "outputs": [
        {
          "output_type": "execute_result",
          "data": {
            "text/plain": [
              "(array(['1178', '916', '936'], dtype='<U11'), array([625,  54, 464]))"
            ]
          },
          "metadata": {},
          "execution_count": 39
        }
      ]
    },
    {
      "cell_type": "code",
      "metadata": {
        "colab": {
          "base_uri": "https://localhost:8080/"
        },
        "id": "L50nQJDsPdez",
        "outputId": "dcfe0802-682a-44f5-80e2-314f41098f29"
      },
      "source": [
        "project_data=\"KAG_Conversion_Data.csv\"\n",
        "data=np.genfromtxt(project_data, delimiter=\",\", skip_header=1,dtype=str )\n",
        "print(data)"
      ],
      "execution_count": null,
      "outputs": [
        {
          "output_type": "stream",
          "name": "stdout",
          "text": [
            "[['708746' '916' '103916' ... '1.429999948' '2' '1']\n",
            " ['708749' '916' '103917' ... '1.820000023' '2' '0']\n",
            " ['708771' '916' '103920' ... '0' '1' '0']\n",
            " ...\n",
            " ['1314412' '1178' '179979' ... '40.28999949' '2' '0']\n",
            " ['1314414' '1178' '179981' ... '198.7100005' '8' '2']\n",
            " ['1314415' '1178' '179982' ... '165.6099987' '5' '2']]\n"
          ]
        }
      ]
    },
    {
      "cell_type": "code",
      "metadata": {
        "colab": {
          "base_uri": "https://localhost:8080/"
        },
        "id": "aMD0kqiMOIT2",
        "outputId": "bfbc68cb-76b3-4f49-d2dc-45ab12179d64"
      },
      "source": [
        "age_groups=np.unique(data[:,3])\n",
        "print(\"age group that where targered :\",np.unique(data[:,3]))"
      ],
      "execution_count": null,
      "outputs": [
        {
          "output_type": "stream",
          "name": "stdout",
          "text": [
            "age group that where targered : ['30-34' '35-39' '40-44' '45-49']\n"
          ]
        }
      ]
    },
    {
      "cell_type": "code",
      "metadata": {
        "colab": {
          "base_uri": "https://localhost:8080/"
        },
        "id": "z8M7LULHKzlw",
        "outputId": "c5678f30-038c-42bd-fe82-21761c391dca"
      },
      "source": [
        "np.array(data[:,3])"
      ],
      "execution_count": null,
      "outputs": [
        {
          "output_type": "execute_result",
          "data": {
            "text/plain": [
              "array(['30-34', '30-34', '30-34', ..., '45-49', '45-49', '45-49'],\n",
              "      dtype='<U11')"
            ]
          },
          "metadata": {},
          "execution_count": 42
        }
      ]
    },
    {
      "cell_type": "code",
      "metadata": {
        "colab": {
          "base_uri": "https://localhost:8080/"
        },
        "id": "NfXpZpG4UEBr",
        "outputId": "c915050b-119c-4bfa-cdca-bc93aea9f04a"
      },
      "source": [
        "print(\"Min:\",np.min(data[:,8].astype(float)))\n",
        "\n",
        "print(\"Max:\",np.max(data[:,8].astype(float)))\n",
        "print(\"Avg:\",np.mean(data[:,8].astype(float)))"
      ],
      "execution_count": null,
      "outputs": [
        {
          "output_type": "stream",
          "name": "stdout",
          "text": [
            "Min: 0.0\n",
            "Max: 639.9499981\n",
            "Avg: 51.36065613141295\n"
          ]
        }
      ]
    },
    {
      "cell_type": "code",
      "metadata": {
        "colab": {
          "base_uri": "https://localhost:8080/"
        },
        "id": "lmu-8fq_XwNK",
        "outputId": "3e0f45a4-65d1-44ee-a2bc-451309162c19"
      },
      "source": [
        "np.min(data[:,8].astype(float))"
      ],
      "execution_count": null,
      "outputs": [
        {
          "output_type": "execute_result",
          "data": {
            "text/plain": [
              "0.0"
            ]
          },
          "metadata": {},
          "execution_count": 55
        }
      ]
    },
    {
      "cell_type": "code",
      "metadata": {
        "colab": {
          "base_uri": "https://localhost:8080/"
        },
        "id": "hvT0R3d7Ybgb",
        "outputId": "5c849c8c-000d-4800-9fc8-4ce13b45647c"
      },
      "source": [
        "max_clicks=np.max(data[:,7].astype(float))\n",
        "max_clicks_index=list(data[:,7].astype(int)).index(max_clicks) \n",
        "max_clicks_id=data[:,0][max_clicks_index]\n",
        "print(max_clicks)\n",
        "print(max_clicks_id)"
      ],
      "execution_count": null,
      "outputs": [
        {
          "output_type": "stream",
          "name": "stdout",
          "text": [
            "421.0\n",
            "1121814\n"
          ]
        }
      ]
    },
    {
      "cell_type": "code",
      "metadata": {
        "colab": {
          "base_uri": "https://localhost:8080/"
        },
        "id": "EpAb0j6mYpkr",
        "outputId": "4aeab8f4-cf6e-4ab5-a6e2-c8a3639c1067"
      },
      "source": [
        "max_clicks_conversion = data[:,10][max_clicks_index]\n",
        "max_conversion = np.max(data[:,10].astype(int))\n",
        "print(\"Conversion on maximum ad clicks : \",max_clicks_conversion)\n",
        "if max_clicks_conversion==max_conversion:\n",
        "  print(\"It is maximum purchase\")\n",
        "else:\n",
        "  print(\"It is not maximum purchase\")"
      ],
      "execution_count": null,
      "outputs": [
        {
          "output_type": "stream",
          "name": "stdout",
          "text": [
            "Conversion on maximum ad clicks :  13\n",
            "It is not maximum purchase\n"
          ]
        }
      ]
    },
    {
      "cell_type": "code",
      "metadata": {
        "colab": {
          "base_uri": "https://localhost:8080/"
        },
        "id": "RLDKLD-bfXvR",
        "outputId": "8ff4d57a-c939-445d-90a5-14b063cde49d"
      },
      "source": [
        "max_conversion_index = list(data[:,10].astype(int)).index(max_conversion)\n",
        "print(\"Data for product with maximum purchase : \",data[max_conversion_index])"
      ],
      "execution_count": null,
      "outputs": [
        {
          "output_type": "stream",
          "name": "stdout",
          "text": [
            "Data for product with maximum purchase :  ['1121104' '1178' '144533' '30-34' 'M' '16' '2080666' '202' '360.1500015'\n",
            " '40' '21']\n"
          ]
        }
      ]
    }
  ]
}